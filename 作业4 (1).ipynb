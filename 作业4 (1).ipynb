{
 "cells": [
  {
   "cell_type": "code",
   "execution_count": 7,
   "id": "9e0b8310",
   "metadata": {},
   "outputs": [
    {
     "name": "stdout",
     "output_type": "stream",
     "text": [
      "<Response [200]>\n"
     ]
    }
   ],
   "source": [
    "\n",
    "# https://www.flipkart.com/laptops/pr?sid=6bo%2Cb5g&marketplace=FLIPKART&page=1\n",
    "import requests\n",
    "from bs4 import BeautifulSoup\n",
    "import pandas as pd\n",
    "\n",
    "#for i in range(1,4):\n",
    "url = \"https://www.douban.com/event/search?search_text=%E4%BA%A4%E5%8F%8B&loc=shenzhen\"\n",
    "headers = {'user-agent':'Mozilla/5.0 (Macintosh; Intel Mac OS X 10_13_6) AppleWebKit/537.36 (KHTML, like Gecko) Chrome/94.0.4606.61 Safari/537.36'}\n",
    "aa = requests.get(url,headers = headers)\n",
    "print(aa)"
   ]
  },
  {
   "cell_type": "code",
   "execution_count": 8,
   "id": "a95c5d94",
   "metadata": {},
   "outputs": [
    {
     "name": "stdout",
     "output_type": "stream",
     "text": [
      "5\n"
     ]
    }
   ],
   "source": [
    "import requests\n",
    "from urllib.request import urlopen\n",
    "import csv\n",
    "import pandas as pd\n",
    "from bs4 import BeautifulSoup\n",
    "import pandas as pd\n",
    "\n",
    "src = aa.content\n",
    "#print(\"\\n***** Page \" + str(i) +\" in action *****\")\n",
    "soup = BeautifulSoup(src,'html.parser')\n",
    "events = soup.findAll(\"li\", attrs={\"class\":\"search-list-entry\"})\n",
    "print(len(events))"
   ]
  },
  {
   "cell_type": "code",
   "execution_count": 19,
   "id": "221b44f6",
   "metadata": {},
   "outputs": [
    {
     "data": {
      "text/html": [
       "<div>\n",
       "<style scoped>\n",
       "    .dataframe tbody tr th:only-of-type {\n",
       "        vertical-align: middle;\n",
       "    }\n",
       "\n",
       "    .dataframe tbody tr th {\n",
       "        vertical-align: top;\n",
       "    }\n",
       "\n",
       "    .dataframe thead th {\n",
       "        text-align: right;\n",
       "    }\n",
       "</style>\n",
       "<table border=\"1\" class=\"dataframe\">\n",
       "  <thead>\n",
       "    <tr style=\"text-align: right;\">\n",
       "      <th></th>\n",
       "      <th>Name</th>\n",
       "      <th>Wants</th>\n",
       "    </tr>\n",
       "  </thead>\n",
       "  <tbody>\n",
       "    <tr>\n",
       "      <th>0</th>\n",
       "      <td>周末徒步盐田海滨栈道，看海、听海、交友（深圳）</td>\n",
       "      <td>22</td>\n",
       "    </tr>\n",
       "    <tr>\n",
       "      <th>1</th>\n",
       "      <td>约一场羽毛球，交友运动两不误（深圳）</td>\n",
       "      <td>33</td>\n",
       "    </tr>\n",
       "    <tr>\n",
       "      <th>2</th>\n",
       "      <td>那些年，不容错过的户外交友活动</td>\n",
       "      <td>2</td>\n",
       "    </tr>\n",
       "    <tr>\n",
       "      <th>3</th>\n",
       "      <td>【深圳】扩大交友圈，用英语侃大山，涨知识</td>\n",
       "      <td>1</td>\n",
       "    </tr>\n",
       "    <tr>\n",
       "      <th>4</th>\n",
       "      <td>本周日开放式交友，提升朋友圈再生机制</td>\n",
       "      <td>2</td>\n",
       "    </tr>\n",
       "  </tbody>\n",
       "</table>\n",
       "</div>"
      ],
      "text/plain": [
       "                      Name Wants\n",
       "0  周末徒步盐田海滨栈道，看海、听海、交友（深圳）    22\n",
       "1       约一场羽毛球，交友运动两不误（深圳）    33\n",
       "2          那些年，不容错过的户外交友活动     2\n",
       "3     【深圳】扩大交友圈，用英语侃大山，涨知识     1\n",
       "4       本周日开放式交友，提升朋友圈再生机制     2"
      ]
     },
     "execution_count": 19,
     "metadata": {},
     "output_type": "execute_result"
    }
   ],
   "source": [
    "products = []\n",
    "wants = []\n",
    "#for i in range(1,4):\n",
    "    #page_no = str(i)+1\n",
    "for item in events:\n",
    "    name = item.find(\"div\",attrs={\"class\":\"event-title\"})\n",
    "    want = item.find(\"span\",attrs={\"class\":\"search-event-count\"})     \n",
    "    if name != None:\n",
    "        if name != None:\n",
    "            products.append(name.text.strip())\n",
    "        else:\n",
    "            wants.append(None)\n",
    "        if want != None:\n",
    "            wants.append(want.text.strip())\n",
    "        else:\n",
    "            wants.append(None)\n",
    "df=pd.DataFrame({\"Name\":products, \"Wants\":wants})                    \n",
    "df\n",
    "#print(wants)\n",
    "#print(products)"
   ]
  },
  {
   "cell_type": "code",
   "execution_count": null,
   "id": "bb163084",
   "metadata": {},
   "outputs": [],
   "source": []
  }
 ],
 "metadata": {
  "kernelspec": {
   "display_name": "Python 3",
   "language": "python",
   "name": "python3"
  },
  "language_info": {
   "codemirror_mode": {
    "name": "ipython",
    "version": 3
   },
   "file_extension": ".py",
   "mimetype": "text/x-python",
   "name": "python",
   "nbconvert_exporter": "python",
   "pygments_lexer": "ipython3",
   "version": "3.8.8"
  }
 },
 "nbformat": 4,
 "nbformat_minor": 5
}
